{
 "cells": [
  {
   "cell_type": "markdown",
   "metadata": {},
   "source": [
    "## Graphs\n",
    "#### O que é uma Rede Neural (Neural Network):\n",
    "![](./example-neural-network.png)\n",
    "Uma rede neural é um grafo de funções matemáticas, como: ***combinações lineares***. O gráfico é composto por ***nodes*** e ***edges***.  \n",
    "Os ***nodes*** em cada camada executam funções matemáticas utilizando como ***inputs*** os ***outputs*** dos ***nodes*** das camadas anteriores.  \n",
    "Cada node gera um ***output***, o qual pode ser passado para uma próxima camada.\n",
    "(o ***output*** da última camada (***output layer***) não é passado para uma camada futura, pois se trata da última camada.  \n",
    "As camada entre a camada de entrada(***inputs layer***) e a camada de saída(***output layer***), são chamadas de ***hidden layers***.\n",
    "#### Foward Propagation\n",
    "Pela propagação dos valores de entrada(***input layer***) através das funções matemáticas de cada nó(***node***), a rede gera um valor de saída(***ouput***), esse processo é o **forward pass**.  \n",
    "#### Graphs\n",
    "Os nós(***nodes***) e as conexões(***edges***) geram uma estrutura de grafo. Estruturas mais complexas podem calcular praticamente tudo...  \n",
    "Passos para criar uma rede neural(***neural network***):  \n",
    "* Definir o gráfico de nós e conexões.\n",
    "* Propagar valores pelo gráfico.\n",
    "O ***MiniFlow*** executa praticamente o mesmo processo, define uma estrutura de grafo através de um método e então transmite os valores através de outro método."
   ]
  }
 ],
 "metadata": {
  "kernelspec": {
   "display_name": "Python 3",
   "language": "python",
   "name": "python3"
  },
  "language_info": {
   "codemirror_mode": {
    "name": "ipython",
    "version": 3
   },
   "file_extension": ".py",
   "mimetype": "text/x-python",
   "name": "python",
   "nbconvert_exporter": "python",
   "pygments_lexer": "ipython3",
   "version": "3.6.1"
  }
 },
 "nbformat": 4,
 "nbformat_minor": 2
}
