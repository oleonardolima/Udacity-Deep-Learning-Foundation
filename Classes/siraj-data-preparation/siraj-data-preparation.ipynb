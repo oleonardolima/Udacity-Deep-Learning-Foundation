{
 "cells": [
  {
   "cell_type": "markdown",
   "metadata": {},
   "source": [
    "## Siraj's Data Preparation"
   ]
  },
  {
   "cell_type": "markdown",
   "metadata": {},
   "source": [
    "A grande maioria dos pacotes de dados são geralmente utilizados no formato de **.csv**, mas os pacotes de dados podem ser convertidos facilmente para esse formato.\n",
    "Os três passos chaves de pre-processamento de dados são:\n",
    "1. ***Cleaning***:\n",
    "   É uma técnica utilizada como forma de evitar \"outliers\" e outros dados que \n",
    "   fogem dos padrões dos dados, ou estao faltando, podem ser utilizados metodos    como **Clustering** ou **Regression** para encontrar os outliers.\n",
    "2. ***Transformation***.\n",
    "   Pode ser utilizada **Dimensionality Reduction** para reduzir as dimensões dos    dados, como exemplo visualizando de 3D para 2D ou até mesmo para 1D, deixando    os dados mais faceis de ler, o que seria o metodo **Principle Component          Analysis(PCA)**:  \n",
    "   ***Step 1***: Normalize Data.  \n",
    "   ***Step 2***: Compute Covariance Matrix.  \n",
    "   *Inserir a formula.*  \n",
    "   ***Step 3***: Eigen Decomposition.  \n",
    "   Os \"eigenvectors\" são os principais componentes de um dataset, eles fornecem    as direções onde a transformação acontece.  \n",
    "   Os \"eigenvalues\" fornecem o valor de cada um.  \n",
    "   ***Step 4***: Create Projection Matrix.  \n",
    "   Ordena-os de modo decrescente para criar uma matriz de \"projeção deles\".  \n",
    "   ***Step 5***: Squash Features with Projection Matrix.  \n",
    "3. ***Reduction***.  \n",
    "    *Pesquisar metodos de redução de dados.*"
   ]
  },
  {
   "cell_type": "markdown",
   "metadata": {},
   "source": [
    "Referencias:\n",
    "[Video do Siraj sobre Data Preparation](https://www.youtube.com/watch?v=koiTTim4M-s&list=PL2-dafEMk2A7YdKv4XfKpfbTH5z6rEEj3&index=9)  \n",
    "\n",
    "Links de Recomendados pela Udacity:\n",
    "* [Load and manipulate data - Intro to Data Analysis](https://www.udacity.com/course/intro-to-data-analysis--ud170)\n",
    "* [Cleaning data with Python - Data Wrangling](https://www.udacity.com/course/data-wrangling-with-mongodb--ud032)\n",
    "* [Feature Scaling and Principle Component Analysis (PCA) - Intro to Machine](https://www.udacity.com/course/intro-to-machine-learning--ud120)"
   ]
  }
 ],
 "metadata": {
  "kernelspec": {
   "display_name": "Python 3",
   "language": "python",
   "name": "python3"
  },
  "language_info": {
   "codemirror_mode": {
    "name": "ipython",
    "version": 3
   },
   "file_extension": ".py",
   "mimetype": "text/x-python",
   "name": "python",
   "nbconvert_exporter": "python",
   "pygments_lexer": "ipython3",
   "version": "3.6.1"
  }
 },
 "nbformat": 4,
 "nbformat_minor": 2
}
