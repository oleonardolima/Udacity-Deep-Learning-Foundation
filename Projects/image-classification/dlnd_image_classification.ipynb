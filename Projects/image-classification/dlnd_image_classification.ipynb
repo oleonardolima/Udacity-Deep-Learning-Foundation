{
 "cells": [
  {
   "cell_type": "markdown",
   "metadata": {
    "collapsed": true
   },
   "source": [
    "# Image Classification\n",
    "In this project, you'll classify images from the [CIFAR-10 dataset](https://www.cs.toronto.edu/~kriz/cifar.html).  The dataset consists of airplanes, dogs, cats, and other objects. You'll preprocess the images, then train a convolutional neural network on all the samples. The images need to be normalized and the labels need to be one-hot encoded.  You'll get to apply what you learned and build a convolutional, max pooling, dropout, and fully connected layers.  At the end, you'll get to see your neural network's predictions on the sample images.\n",
    "## Get the Data\n",
    "Run the following cell to download the [CIFAR-10 dataset for python](https://www.cs.toronto.edu/~kriz/cifar-10-python.tar.gz)."
   ]
  },
  {
   "cell_type": "code",
   "execution_count": 1,
   "metadata": {},
   "outputs": [
    {
     "name": "stdout",
     "output_type": "stream",
     "text": [
      "All files found!\n"
     ]
    }
   ],
   "source": [
    "\"\"\"\n",
    "DON'T MODIFY ANYTHING IN THIS CELL THAT IS BELOW THIS LINE\n",
    "\"\"\"\n",
    "from urllib.request import urlretrieve\n",
    "from os.path import isfile, isdir\n",
    "from tqdm import tqdm\n",
    "import problem_unittests as tests\n",
    "import tarfile\n",
    "\n",
    "cifar10_dataset_folder_path = 'cifar-10-batches-py'\n",
    "\n",
    "# Use Floyd's cifar-10 dataset if present\n",
    "floyd_cifar10_location = '/input/cifar-10/python.tar.gz'\n",
    "if isfile(floyd_cifar10_location):\n",
    "    tar_gz_path = floyd_cifar10_location\n",
    "else:\n",
    "    tar_gz_path = 'cifar-10-python.tar.gz'\n",
    "\n",
    "class DLProgress(tqdm):\n",
    "    last_block = 0\n",
    "\n",
    "    def hook(self, block_num=1, block_size=1, total_size=None):\n",
    "        self.total = total_size\n",
    "        self.update((block_num - self.last_block) * block_size)\n",
    "        self.last_block = block_num\n",
    "\n",
    "if not isfile(tar_gz_path):\n",
    "    with DLProgress(unit='B', unit_scale=True, miniters=1, desc='CIFAR-10 Dataset') as pbar:\n",
    "        urlretrieve(\n",
    "            'https://www.cs.toronto.edu/~kriz/cifar-10-python.tar.gz',\n",
    "            tar_gz_path,\n",
    "            pbar.hook)\n",
    "\n",
    "if not isdir(cifar10_dataset_folder_path):\n",
    "    with tarfile.open(tar_gz_path) as tar:\n",
    "        tar.extractall()\n",
    "        tar.close()\n",
    "\n",
    "\n",
    "tests.test_folder_path(cifar10_dataset_folder_path)"
   ]
  },
  {
   "cell_type": "markdown",
   "metadata": {},
   "source": [
    "## Explore the Data\n",
    "The dataset is broken into batches to prevent your machine from running out of memory.  The CIFAR-10 dataset consists of 5 batches, named `data_batch_1`, `data_batch_2`, etc.. Each batch contains the labels and images that are one of the following:\n",
    "* airplane\n",
    "* automobile\n",
    "* bird\n",
    "* cat\n",
    "* deer\n",
    "* dog\n",
    "* frog\n",
    "* horse\n",
    "* ship\n",
    "* truck\n",
    "\n",
    "Understanding a dataset is part of making predictions on the data.  Play around with the code cell below by changing the `batch_id` and `sample_id`. The `batch_id` is the id for a batch (1-5). The `sample_id` is the id for a image and label pair in the batch.\n",
    "\n",
    "Ask yourself \"What are all possible labels?\", \"What is the range of values for the image data?\", \"Are the labels in order or random?\".  Answers to questions like these will help you preprocess the data and end up with better predictions."
   ]
  },
  {
   "cell_type": "code",
   "execution_count": 2,
   "metadata": {},
   "outputs": [
    {
     "name": "stdout",
     "output_type": "stream",
     "text": [
      "\n",
      "Stats of batch 2:\n",
      "Samples: 10000\n",
      "Label Counts: {0: 984, 1: 1007, 2: 1010, 3: 995, 4: 1010, 5: 988, 6: 1008, 7: 1026, 8: 987, 9: 985}\n",
      "First 20 Labels: [1, 6, 6, 8, 8, 3, 4, 6, 0, 6, 0, 3, 6, 6, 5, 4, 8, 3, 2, 6]\n",
      "\n",
      "Example of Image 999:\n",
      "Image - Min Value: 3 Max Value: 255\n",
      "Image - Shape: (32, 32, 3)\n",
      "Label - Label Id: 3 Name: cat\n"
     ]
    },
    {
     "data": {
      "image/png": "[encoded data removed]",
      "text/plain": [
       "<matplotlib.figure.Figure at 0x7fe094608a20>"
      ]
     },
     "metadata": {
      "image/png": {
       "height": 250,
       "width": 253
      }
     },
     "output_type": "display_data"
    }
   ],
   "source": [
    "%matplotlib inline\n",
    "%config InlineBackend.figure_format = 'retina'\n",
    "\n",
    "import helper\n",
    "import numpy as np\n",
    "\n",
    "# Explore the dataset\n",
    "batch_id = 2\n",
    "sample_id = 999\n",
    "helper.display_stats(cifar10_dataset_folder_path, batch_id, sample_id)"
   ]
  },
  {
   "cell_type": "markdown",
   "metadata": {},
   "source": [
    "## Implement Preprocess Functions\n",
    "### Normalize\n",
    "In the cell below, implement the `normalize` function to take in image data, `x`, and return it as a normalized Numpy array. The values should be in the range of 0 to 1, inclusive.  The return object should be the same shape as `x`."
   ]
  },
  {
   "cell_type": "code",
   "execution_count": 3,
   "metadata": {},
   "outputs": [
    {
     "name": "stdout",
     "output_type": "stream",
     "text": [
      "Tests Passed\n"
     ]
    }
   ],
   "source": [
    "def normalize(x):\n",
    "    \"\"\"\n",
    "    Normalize a list of sample image data in the range of 0 to 1\n",
    "    : x: List of image data.  The image shape is (32, 32, 3)\n",
    "    : return: Numpy array of normalize data\n",
    "    \"\"\"\n",
    "    # TODO: Implement Function\n",
    "    \n",
    "    # The 0 and 1 are the range values, in fact they do not influence the result because it is 0 and 1\n",
    "    # 0 does not change the sum and 1 does not change multiplication, but i think it is good to keep the formula.\n",
    "    normalized_data = x\n",
    "    min = np.min(normalized_data)\n",
    "    max = np.max(normalized_data)\n",
    "    normalized_data = 0 + ( (normalized_data - min) * (1 - 0) ) / (max - min)\n",
    "    \n",
    "    return normalized_data\n",
    "\n",
    "\"\"\"\n",
    "DON'T MODIFY ANYTHING IN THIS CELL THAT IS BELOW THIS LINE\n",
    "\"\"\"\n",
    "tests.test_normalize(normalize)"
   ]
  },
  {
   "cell_type": "markdown",
   "metadata": {},
   "source": [
    "### One-hot encode\n",
    "Just like the previous code cell, you'll be implementing a function for preprocessing.  This time, you'll implement the `one_hot_encode` function. The input, `x`, are a list of labels.  Implement the function to return the list of labels as One-Hot encoded Numpy array.  The possible values for labels are 0 to 9. The one-hot encoding function should return the same encoding for each value between each call to `one_hot_encode`.  Make sure to save the map of encodings outside the function.\n",
    "\n",
    "Hint: Don't reinvent the wheel."
   ]
  },
  {
   "cell_type": "code",
   "execution_count": 4,
   "metadata": {},
   "outputs": [
    {
     "name": "stdout",
     "output_type": "stream",
     "text": [
      "Tests Passed\n"
     ]
    }
   ],
   "source": [
    "def one_hot_encode(x):\n",
    "    \"\"\"\n",
    "    One hot encode a list of sample labels. Return a one-hot encoded vector for each label.\n",
    "    : x: List of sample Labels\n",
    "    : return: Numpy array of one-hot encoded labels\n",
    "    \"\"\"\n",
    "    # TODO: Implement Function\n",
    "    one_hot_encoded_labels = [] \n",
    "    one_hot_encoder= np.zeros(10) #Creates an array of encoder with 10 classes with zeros\n",
    "        \n",
    "    for label in x:\n",
    "        one_hot_encoder[label] = 1 #Gives the correct class of the label the value of 1\n",
    "        one_hot_encoded_labels.append(one_hot_encoder)\n",
    "        one_hot_encoder= np.zeros(10) #Fill the \"encoder\" with all zeros again\n",
    "        \n",
    "    one_hot_encoded_labels = np.array(one_hot_encoded_labels)\n",
    "    return one_hot_encoded_labels\n",
    "\n",
    "\"\"\"\n",
    "DON'T MODIFY ANYTHING IN THIS CELL THAT IS BELOW THIS LINE\n",
    "\"\"\"\n",
    "tests.test_one_hot_encode(one_hot_encode)"
   ]
  },
  {
   "cell_type": "markdown",
   "metadata": {},
   "source": [
    "### Randomize Data\n",
    "As you saw from exploring the data above, the order of the samples are randomized.  It doesn't hurt to randomize it again, but you don't need to for this dataset."
   ]
  },
  {
   "cell_type": "markdown",
   "metadata": {},
   "source": [
    "## Preprocess all the data and save it\n",
    "Running the code cell below will preprocess all the CIFAR-10 data and save it to file. The code below also uses 10% of the training data for validation."
   ]
  },
  {
   "cell_type": "code",
   "execution_count": 5,
   "metadata": {
    "collapsed": true
   },
   "outputs": [],
   "source": [
    "\"\"\"\n",
    "DON'T MODIFY ANYTHING IN THIS CELL\n",
    "\"\"\"\n",
    "# Preprocess Training, Validation, and Testing Data\n",
    "helper.preprocess_and_save_data(cifar10_dataset_folder_path, normalize, one_hot_encode)"
   ]
  },
  {
   "cell_type": "markdown",
   "metadata": {},
   "source": [
    "# Check Point\n",
    "This is your first checkpoint.  If you ever decide to come back to this notebook or have to restart the notebook, you can start from here.  The preprocessed data has been saved to disk."
   ]
  },
  {
   "cell_type": "code",
   "execution_count": 6,
   "metadata": {
    "collapsed": true
   },
   "outputs": [],
   "source": [
    "\"\"\"\n",
    "DON'T MODIFY ANYTHING IN THIS CELL\n",
    "\"\"\"\n",
    "import pickle\n",
    "import problem_unittests as tests\n",
    "import helper\n",
    "\n",
    "# Load the Preprocessed Validation data\n",
    "valid_features, valid_labels = pickle.load(open('preprocess_validation.p', mode='rb'))"
   ]
  },
  {
   "cell_type": "markdown",
   "metadata": {},
   "source": [
    "## Build the network\n",
    "For the neural network, you'll build each layer into a function.  Most of the code you've seen has been outside of functions. To test your code more thoroughly, we require that you put each layer in a function.  This allows us to give you better feedback and test for simple mistakes using our unittests before you submit your project.\n",
    "\n",
    ">**Note:** If you're finding it hard to dedicate enough time for this course each week, we've provided a small shortcut to this part of the project. In the next couple of problems, you'll have the option to use classes from the [TensorFlow Layers](https://www.tensorflow.org/api_docs/python/tf/layers) or [TensorFlow Layers (contrib)](https://www.tensorflow.org/api_guides/python/contrib.layers) packages to build each layer, except the layers you build in the \"Convolutional and Max Pooling Layer\" section.  TF Layers is similar to Keras's and TFLearn's abstraction to layers, so it's easy to pickup.\n",
    "\n",
    ">However, if you would like to get the most out of this course, try to solve all the problems _without_ using anything from the TF Layers packages. You **can** still use classes from other packages that happen to have the same name as ones you find in TF Layers! For example, instead of using the TF Layers version of the `conv2d` class, [tf.layers.conv2d](https://www.tensorflow.org/api_docs/python/tf/layers/conv2d), you would want to use the TF Neural Network version of `conv2d`, [tf.nn.conv2d](https://www.tensorflow.org/api_docs/python/tf/nn/conv2d). \n",
    "\n",
    "Let's begin!\n",
    "\n",
    "### Input\n",
    "The neural network needs to read the image data, one-hot encoded labels, and dropout keep probability. Implement the following functions\n",
    "* Implement `neural_net_image_input`\n",
    " * Return a [TF Placeholder](https://www.tensorflow.org/api_docs/python/tf/placeholder)\n",
    " * Set the shape using `image_shape` with batch size set to `None`.\n",
    " * Name the TensorFlow placeholder \"x\" using the TensorFlow `name` parameter in the [TF Placeholder](https://www.tensorflow.org/api_docs/python/tf/placeholder).\n",
    "* Implement `neural_net_label_input`\n",
    " * Return a [TF Placeholder](https://www.tensorflow.org/api_docs/python/tf/placeholder)\n",
    " * Set the shape using `n_classes` with batch size set to `None`.\n",
    " * Name the TensorFlow placeholder \"y\" using the TensorFlow `name` parameter in the [TF Placeholder](https://www.tensorflow.org/api_docs/python/tf/placeholder).\n",
    "* Implement `neural_net_keep_prob_input`\n",
    " * Return a [TF Placeholder](https://www.tensorflow.org/api_docs/python/tf/placeholder) for dropout keep probability.\n",
    " * Name the TensorFlow placeholder \"keep_prob\" using the TensorFlow `name` parameter in the [TF Placeholder](https://www.tensorflow.org/api_docs/python/tf/placeholder).\n",
    "\n",
    "These names will be used at the end of the project to load your saved model.\n",
    "\n",
    "Note: `None` for shapes in TensorFlow allow for a dynamic size."
   ]
  },
  {
   "cell_type": "code",
   "execution_count": 7,
   "metadata": {},
   "outputs": [
    {
     "name": "stdout",
     "output_type": "stream",
     "text": [
      "Image Input Tests Passed.\n",
      "Label Input Tests Passed.\n",
      "Keep Prob Tests Passed.\n"
     ]
    }
   ],
   "source": [
    "import tensorflow as tf\n",
    "\n",
    "def neural_net_image_input(image_shape):\n",
    "    \"\"\"\n",
    "    Return a Tensor for a batch of image input\n",
    "    : image_shape: Shape of the images\n",
    "    : return: Tensor for image input.\n",
    "    \"\"\"\n",
    "    # TODO: Implement Function\n",
    "    image_height = image_shape[0]\n",
    "    image_width = image_shape[1]\n",
    "    image_depth = image_shape[2]\n",
    "    \n",
    "    image_input = tf.placeholder(tf.float32, [None, image_height, image_width, image_depth] , name= 'x')\n",
    "    \n",
    "    return image_input\n",
    "\n",
    "\n",
    "def neural_net_label_input(n_classes):\n",
    "    \"\"\"\n",
    "    Return a Tensor for a batch of label input\n",
    "    : n_classes: Number of classes\n",
    "    : return: Tensor for label input.\n",
    "    \"\"\"\n",
    "    # TODO: Implement Function\n",
    "    label_input = tf.placeholder(tf.float32, [None, n_classes], name='y')\n",
    "    \n",
    "    return label_input\n",
    "\n",
    "\n",
    "def neural_net_keep_prob_input():\n",
    "    \"\"\"\n",
    "    Return a Tensor for keep probability\n",
    "    : return: Tensor for keep probability.\n",
    "    \"\"\"\n",
    "    # TODO: Implement Function\n",
    "    keep_prob = tf.placeholder(tf.float32, name= 'keep_prob')\n",
    "    \n",
    "    return keep_prob\n",
    "\n",
    "\n",
    "\"\"\"\n",
    "DON'T MODIFY ANYTHING IN THIS CELL THAT IS BELOW THIS LINE\n",
    "\"\"\"\n",
    "tf.reset_default_graph()\n",
    "tests.test_nn_image_inputs(neural_net_image_input)\n",
    "tests.test_nn_label_inputs(neural_net_label_input)\n",
    "tests.test_nn_keep_prob_inputs(neural_net_keep_prob_input)"
   ]
  },
  {
   "cell_type": "markdown",
   "metadata": {},
   "source": [
    "### Convolution and Max Pooling Layer\n",
    "Convolution layers have a lot of success with images. For this code cell, you should implement the function `conv2d_maxpool` to apply convolution then max pooling:\n",
    "* Create the weight and bias using `conv_ksize`, `conv_num_outputs` and the shape of `x_tensor`.\n",
    "* Apply a convolution to `x_tensor` using weight and `conv_strides`.\n",
    " * We recommend you use same padding, but you're welcome to use any padding.\n",
    "* Add bias\n",
    "* Add a nonlinear activation to the convolution.\n",
    "* Apply Max Pooling using `pool_ksize` and `pool_strides`.\n",
    " * We recommend you use same padding, but you're welcome to use any padding.\n",
    "\n",
    "**Note:** You **can't** use [TensorFlow Layers](https://www.tensorflow.org/api_docs/python/tf/layers) or [TensorFlow Layers (contrib)](https://www.tensorflow.org/api_guides/python/contrib.layers) for **this** layer, but you can still use TensorFlow's [Neural Network](https://www.tensorflow.org/api_docs/python/tf/nn) package. You may still use the shortcut option for all the **other** layers."
   ]
  },
  {
   "cell_type": "code",
   "execution_count": 8,
   "metadata": {},
   "outputs": [
    {
     "name": "stdout",
     "output_type": "stream",
     "text": [
      "Tests Passed\n"
     ]
    }
   ],
   "source": [
    "def conv2d_maxpool(x_tensor, conv_num_outputs, conv_ksize, conv_strides, pool_ksize, pool_strides):\n",
    "    \"\"\"\n",
    "    Apply convolution then max pooling to x_tensor\n",
    "    :param x_tensor: TensorFlow Tensor\n",
    "    :param conv_num_outputs: Number of outputs for the convolutional layer\n",
    "    :param conv_ksize: kernal size 2-D Tuple for the convolutional layer\n",
    "    :param conv_strides: Stride 2-D Tuple for convolution\n",
    "    :param pool_ksize: kernal size 2-D Tuple for pool\n",
    "    :param pool_strides: Stride 2-D Tuple for pool\n",
    "    : return: A tensor that represents convolution and max pooling of x_tensor\n",
    "    \"\"\"\n",
    "    # TODO: Implement Function\n",
    "    x_tensor_shape = x_tensor.get_shape().as_list()\n",
    "    input_depth = x_tensor_shape[3]\n",
    "    out_height = conv_ksize[0]\n",
    "    out_width = conv_ksize[1]\n",
    "    out_depth = conv_num_outputs\n",
    "    \n",
    "    weights = tf.Variable(tf.truncated_normal([out_height, out_width, input_depth, out_depth], stddev=0.1))\n",
    "    biases = tf.Variable(tf.zeros(out_depth))\n",
    "    \n",
    "    conv2d = tf.nn.conv2d(x_tensor,\n",
    "                          weights,\n",
    "                          strides=[1, conv_strides[0], conv_strides[1], 1],\n",
    "                          padding='SAME')\n",
    "    \n",
    "    conv2d = tf.nn.bias_add(conv2d, biases)\n",
    "    \n",
    "    relu = tf.nn.relu(conv2d)\n",
    "    \n",
    "    maxpool = tf.nn.max_pool(relu,\n",
    "                             [1, pool_ksize[0], pool_ksize[1], 1],\n",
    "                             strides=[1, pool_strides[0], pool_strides[1], 1],\n",
    "                             padding='SAME')\n",
    "    return maxpool\n",
    "\n",
    "\n",
    "\"\"\"\n",
    "DON'T MODIFY ANYTHING IN THIS CELL THAT IS BELOW THIS LINE\n",
    "\"\"\"\n",
    "tests.test_con_pool(conv2d_maxpool)"
   ]
  },
  {
   "cell_type": "markdown",
   "metadata": {},
   "source": [
    "### Flatten Layer\n",
    "Implement the `flatten` function to change the dimension of `x_tensor` from a 4-D tensor to a 2-D tensor.  The output should be the shape (*Batch Size*, *Flattened Image Size*). Shortcut option: you can use classes from the [TensorFlow Layers](https://www.tensorflow.org/api_docs/python/tf/layers) or [TensorFlow Layers (contrib)](https://www.tensorflow.org/api_guides/python/contrib.layers) packages for this layer. For more of a challenge, only use other TensorFlow packages."
   ]
  },
  {
   "cell_type": "code",
   "execution_count": 9,
   "metadata": {},
   "outputs": [
    {
     "name": "stdout",
     "output_type": "stream",
     "text": [
      "Tests Passed\n"
     ]
    }
   ],
   "source": [
    "def flatten(x_tensor):\n",
    "    \"\"\"\n",
    "    Flatten x_tensor to (Batch Size, Flattened Image Size)\n",
    "    : x_tensor: A tensor of size (Batch Size, ...), where ... are the image dimensions.\n",
    "    : return: A tensor of size (Batch Size, Flattened Image Size).\n",
    "    \"\"\"\n",
    "    # TODO: Implement Function\n",
    "    x_tensor_shape = x_tensor.get_shape().as_list()\n",
    "    x_tensor_flatten = tf.reshape(x_tensor, [-1, (x_tensor_shape[1]*x_tensor_shape[2]*x_tensor_shape[3])])\n",
    "    return x_tensor_flatten\n",
    "\n",
    "\n",
    "\"\"\"\n",
    "DON'T MODIFY ANYTHING IN THIS CELL THAT IS BELOW THIS LINE\n",
    "\"\"\"\n",
    "tests.test_flatten(flatten)"
   ]
  },
  {
   "cell_type": "markdown",
   "metadata": {},
   "source": [
    "### Fully-Connected Layer\n",
    "Implement the `fully_conn` function to apply a fully connected layer to `x_tensor` with the shape (*Batch Size*, *num_outputs*). Shortcut option: you can use classes from the [TensorFlow Layers](https://www.tensorflow.org/api_docs/python/tf/layers) or [TensorFlow Layers (contrib)](https://www.tensorflow.org/api_guides/python/contrib.layers) packages for this layer. For more of a challenge, only use other TensorFlow packages."
   ]
  },
  {
   "cell_type": "code",
   "execution_count": 10,
   "metadata": {},
   "outputs": [
    {
     "name": "stdout",
     "output_type": "stream",
     "text": [
      "Tests Passed\n"
     ]
    }
   ],
   "source": [
    "def fully_conn(x_tensor, num_outputs):\n",
    "    \"\"\"\n",
    "    Apply a fully connected layer to x_tensor using weight and bias\n",
    "    : x_tensor: A 2-D tensor where the first dimension is batch size.\n",
    "    : num_outputs: The number of output that the new tensor should be.\n",
    "    : return: A 2-D tensor where the second dimension is num_outputs.\n",
    "    \"\"\"\n",
    "    # TODO: Implement Function\n",
    "    x_tensor_shape = x_tensor.get_shape().as_list()\n",
    "    \n",
    "    weights = tf.Variable(tf.truncated_normal([x_tensor_shape[1], num_outputs], stddev=0.1))\n",
    "    biases = tf.Variable(tf.zeros(num_outputs))\n",
    "    \n",
    "    fully_conn = tf.add(tf.matmul(x_tensor, weights), biases)\n",
    "    fully_conn = tf.nn.relu(fully_conn)\n",
    "    \n",
    "    return fully_conn\n",
    "\n",
    "\n",
    "\"\"\"\n",
    "DON'T MODIFY ANYTHING IN THIS CELL THAT IS BELOW THIS LINE\n",
    "\"\"\"\n",
    "tests.test_fully_conn(fully_conn)"
   ]
  },
  {
   "cell_type": "markdown",
   "metadata": {},
   "source": [
    "### Output Layer\n",
    "Implement the `output` function to apply a fully connected layer to `x_tensor` with the shape (*Batch Size*, *num_outputs*). Shortcut option: you can use classes from the [TensorFlow Layers](https://www.tensorflow.org/api_docs/python/tf/layers) or [TensorFlow Layers (contrib)](https://www.tensorflow.org/api_guides/python/contrib.layers) packages for this layer. For more of a challenge, only use other TensorFlow packages.\n",
    "\n",
    "**Note:** Activation, softmax, or cross entropy should **not** be applied to this."
   ]
  },
  {
   "cell_type": "code",
   "execution_count": 11,
   "metadata": {},
   "outputs": [
    {
     "name": "stdout",
     "output_type": "stream",
     "text": [
      "Tests Passed\n"
     ]
    }
   ],
   "source": [
    "def output(x_tensor, num_outputs):\n",
    "    \"\"\"\n",
    "    Apply a output layer to x_tensor using weight and bias\n",
    "    : x_tensor: A 2-D tensor where the first dimension is batch size.\n",
    "    : num_outputs: The number of output that the new tensor should be.\n",
    "    : return: A 2-D tensor where the second dimension is num_outputs.\n",
    "    \"\"\"\n",
    "    # TODO: Implement Function\n",
    "    x_tensor_shape = x_tensor.get_shape().as_list()\n",
    "    \n",
    "    weights = tf.Variable(tf.truncated_normal([x_tensor_shape[1], num_outputs], stddev=0.1))\n",
    "    biases = tf.Variable(tf.zeros(num_outputs))\n",
    "    \n",
    "    output = tf.add(tf.matmul(x_tensor, weights), biases)\n",
    "                         \n",
    "    return output\n",
    "\n",
    "\n",
    "\"\"\"\n",
    "DON'T MODIFY ANYTHING IN THIS CELL THAT IS BELOW THIS LINE\n",
    "\"\"\"\n",
    "tests.test_output(output)"
   ]
  },
  {
   "cell_type": "markdown",
   "metadata": {},
   "source": [
    "### Create Convolutional Model\n",
    "Implement the function `conv_net` to create a convolutional neural network model. The function takes in a batch of images, `x`, and outputs logits.  Use the layers you created above to create this model:\n",
    "\n",
    "* Apply 1, 2, or 3 Convolution and Max Pool layers\n",
    "* Apply a Flatten Layer\n",
    "* Apply 1, 2, or 3 Fully Connected Layers\n",
    "* Apply an Output Layer\n",
    "* Return the output\n",
    "* Apply [TensorFlow's Dropout](https://www.tensorflow.org/api_docs/python/tf/nn/dropout) to one or more layers in the model using `keep_prob`. "
   ]
  },
  {
   "cell_type": "code",
   "execution_count": 173,
   "metadata": {},
   "outputs": [
    {
     "name": "stdout",
     "output_type": "stream",
     "text": [
      "Neural Network Built!\n"
     ]
    }
   ],
   "source": [
    "def conv_net(x, keep_prob):\n",
    "    \"\"\"\n",
    "    Create a convolutional neural network model\n",
    "    : x: Placeholder tensor that holds image data.\n",
    "    : keep_prob: Placeholder tensor that hold dropout keep probability.\n",
    "    : return: Tensor that represents logits\n",
    "    \"\"\"\n",
    "    # TODO: Apply 1, 2, or 3 Convolution and Max Pool layers\n",
    "    #    Play around with different number of outputs, kernel size and stride\n",
    "    # Function Definition from Above:\n",
    "    #    conv2d_maxpool(x_tensor, conv_num_outputs, conv_ksize, conv_strides, pool_ksize, pool_strides)\n",
    "    model = conv2d_maxpool(x, 64, (6, 6), (2, 2), (4, 4), (2, 2))\n",
    "    #model = tf.nn.dropout(model, keep_prob)\n",
    "    model = conv2d_maxpool(model, 128, (4, 4), (2, 2), (2, 2), (2, 2)) \n",
    "    model = tf.nn.dropout(model, keep_prob)\n",
    "    model = conv2d_maxpool(model, 256, (2, 2), (2, 2), (2, 2), (2, 2))\n",
    "    \n",
    "    # TODO: Apply a Flatten Layer\n",
    "    # Function Definition from Above:\n",
    "    #   flatten(x_tensor)\n",
    "    model = flatten(model)\n",
    "\n",
    "    # TODO: Apply 1, 2, or 3 Fully Connected Layers\n",
    "    #    Play around with different number of outputs\n",
    "    # Function Definition from Above:\n",
    "    #   fully_conn(x_tensor, num_outputs)\n",
    "    model = fully_conn(model, 256)\n",
    "    model = tf.nn.dropout(model, keep_prob)\n",
    "    model = fully_conn(model, 128)\n",
    "    #model = tf.nn.dropout(model, keep_prob)\n",
    "    #model = fully_conn(model, 128)\n",
    "    \n",
    "    # TODO: Apply an Output Layer\n",
    "    #    Set this to the number of classes\n",
    "    # Function Definition from Above:\n",
    "    #   output(x_tensor, num_outputs)\n",
    "    model = output(model, 10)\n",
    "    \n",
    "    # TODO: return output\n",
    "    return model\n",
    "\n",
    "\n",
    "\"\"\"\n",
    "DON'T MODIFY ANYTHING IN THIS CELL THAT IS BELOW THIS LINE\n",
    "\"\"\"\n",
    "\n",
    "##############################\n",
    "## Build the Neural Network ##\n",
    "##############################\n",
    "\n",
    "# Remove previous weights, bias, inputs, etc..\n",
    "tf.reset_default_graph()\n",
    "\n",
    "# Inputs\n",
    "x = neural_net_image_input((32, 32, 3))\n",
    "y = neural_net_label_input(10)\n",
    "keep_prob = neural_net_keep_prob_input()\n",
    "\n",
    "# Model\n",
    "logits = conv_net(x, keep_prob)\n",
    "\n",
    "# Name logits Tensor, so that is can be loaded from disk after training\n",
    "logits = tf.identity(logits, name='logits')\n",
    "\n",
    "# Loss and Optimizer\n",
    "cost = tf.reduce_mean(tf.nn.softmax_cross_entropy_with_logits(logits=logits, labels=y))\n",
    "optimizer = tf.train.AdamOptimizer().minimize(cost)\n",
    "\n",
    "# Accuracy\n",
    "correct_pred = tf.equal(tf.argmax(logits, 1), tf.argmax(y, 1))\n",
    "accuracy = tf.reduce_mean(tf.cast(correct_pred, tf.float32), name='accuracy')\n",
    "\n",
    "tests.test_conv_net(conv_net)"
   ]
  },
  {
   "cell_type": "markdown",
   "metadata": {},
   "source": [
    "## Train the Neural Network\n",
    "### Single Optimization\n",
    "Implement the function `train_neural_network` to do a single optimization.  The optimization should use `optimizer` to optimize in `session` with a `feed_dict` of the following:\n",
    "* `x` for image input\n",
    "* `y` for labels\n",
    "* `keep_prob` for keep probability for dropout\n",
    "\n",
    "This function will be called for each batch, so `tf.global_variables_initializer()` has already been called.\n",
    "\n",
    "Note: Nothing needs to be returned. This function is only optimizing the neural network."
   ]
  },
  {
   "cell_type": "code",
   "execution_count": 174,
   "metadata": {},
   "outputs": [
    {
     "name": "stdout",
     "output_type": "stream",
     "text": [
      "Tests Passed\n"
     ]
    }
   ],
   "source": [
    "def train_neural_network(session, optimizer, keep_probability, feature_batch, label_batch):\n",
    "    \"\"\"\n",
    "    Optimize the session on a batch of images and labels\n",
    "    : session: Current TensorFlow session\n",
    "    : optimizer: TensorFlow optimizer function\n",
    "    : keep_probability: keep probability\n",
    "    : feature_batch: Batch of Numpy image data\n",
    "    : label_batch: Batch of Numpy label data\n",
    "    \"\"\"\n",
    "    # TODO: Implement Function\n",
    "    #with tf.Session() as session:\n",
    "    \n",
    "    session.run(optimizer, feed_dict={x: feature_batch, y: label_batch, keep_prob: keep_probability})\n",
    "    \n",
    "    pass\n",
    "\n",
    "\n",
    "\"\"\"\n",
    "DON'T MODIFY ANYTHING IN THIS CELL THAT IS BELOW THIS LINE\n",
    "\"\"\"\n",
    "tests.test_train_nn(train_neural_network)"
   ]
  },
  {
   "cell_type": "markdown",
   "metadata": {},
   "source": [
    "### Show Stats\n",
    "Implement the function `print_stats` to print loss and validation accuracy.  Use the global variables `valid_features` and `valid_labels` to calculate validation accuracy.  Use a keep probability of `1.0` to calculate the loss and validation accuracy."
   ]
  },
  {
   "cell_type": "code",
   "execution_count": 175,
   "metadata": {
    "collapsed": true
   },
   "outputs": [],
   "source": [
    "def print_stats(session, feature_batch, label_batch, cost, accuracy):\n",
    "    \"\"\"\n",
    "    Print information about loss and validation accuracy\n",
    "    : session: Current TensorFlow session\n",
    "    : feature_batch: Batch of Numpy image data\n",
    "    : label_batch: Batch of Numpy label data\n",
    "    : cost: TensorFlow cost function\n",
    "    : accuracy: TensorFlow accuracy function\n",
    "    \"\"\"\n",
    "    # TODO: Implement Function\n",
    "    loss = session.run(cost, feed_dict={x: feature_batch, y: label_batch, keep_prob: 1.0})\n",
    "    \n",
    "    validation_accuracy = session.run(accuracy, feed_dict={x: valid_features, y: valid_labels, keep_prob: 1.0})\n",
    "    \n",
    "    print('Loss: {:>10.4f} Validation Accuracy: {:.6f}'.format(loss, validation_accuracy))\n",
    "    pass"
   ]
  },
  {
   "cell_type": "markdown",
   "metadata": {},
   "source": [
    "### Hyperparameters\n",
    "Tune the following parameters:\n",
    "* Set `epochs` to the number of iterations until the network stops learning or start overfitting\n",
    "* Set `batch_size` to the highest number that your machine has memory for.  Most people set them to common sizes of memory:\n",
    " * 64\n",
    " * 128\n",
    " * 256\n",
    " * ...\n",
    "* Set `keep_probability` to the probability of keeping a node using dropout"
   ]
  },
  {
   "cell_type": "code",
   "execution_count": 176,
   "metadata": {
    "collapsed": true
   },
   "outputs": [],
   "source": [
    "# TODO: Tune Parameters\n",
    "epochs = 60\n",
    "batch_size = 128\n",
    "keep_probability = 0.5"
   ]
  },
  {
   "cell_type": "markdown",
   "metadata": {},
   "source": [
    "### Train on a Single CIFAR-10 Batch\n",
    "Instead of training the neural network on all the CIFAR-10 batches of data, let's use a single batch. This should save time while you iterate on the model to get a better accuracy.  Once the final validation accuracy is 50% or greater, run the model on all the data in the next section."
   ]
  },
  {
   "cell_type": "code",
   "execution_count": 177,
   "metadata": {},
   "outputs": [
    {
     "name": "stdout",
     "output_type": "stream",
     "text": [
      "Checking the Training on a Single Batch...\n",
      "Epoch  1, CIFAR-10 Batch 1:  Loss:     2.1770 Validation Accuracy: 0.224000\n",
      "Epoch  2, CIFAR-10 Batch 1:  Loss:     1.9203 Validation Accuracy: 0.337800\n",
      "Epoch  3, CIFAR-10 Batch 1:  Loss:     1.7947 Validation Accuracy: 0.362800\n",
      "Epoch  4, CIFAR-10 Batch 1:  Loss:     1.6329 Validation Accuracy: 0.422800\n",
      "Epoch  5, CIFAR-10 Batch 1:  Loss:     1.5450 Validation Accuracy: 0.457800\n",
      "Epoch  6, CIFAR-10 Batch 1:  Loss:     1.3652 Validation Accuracy: 0.454600\n",
      "Epoch  7, CIFAR-10 Batch 1:  Loss:     1.2518 Validation Accuracy: 0.486400\n",
      "Epoch  8, CIFAR-10 Batch 1:  Loss:     1.2294 Validation Accuracy: 0.500200\n",
      "Epoch  9, CIFAR-10 Batch 1:  Loss:     1.0996 Validation Accuracy: 0.512800\n",
      "Epoch 10, CIFAR-10 Batch 1:  Loss:     1.1442 Validation Accuracy: 0.487600\n",
      "Epoch 11, CIFAR-10 Batch 1:  Loss:     1.0118 Validation Accuracy: 0.522000\n",
      "Epoch 12, CIFAR-10 Batch 1:  Loss:     0.9150 Validation Accuracy: 0.520600\n",
      "Epoch 13, CIFAR-10 Batch 1:  Loss:     0.8741 Validation Accuracy: 0.545000\n",
      "Epoch 14, CIFAR-10 Batch 1:  Loss:     0.8851 Validation Accuracy: 0.533200\n",
      "Epoch 15, CIFAR-10 Batch 1:  Loss:     0.8049 Validation Accuracy: 0.544200\n",
      "Epoch 16, CIFAR-10 Batch 1:  Loss:     0.7946 Validation Accuracy: 0.560000\n",
      "Epoch 17, CIFAR-10 Batch 1:  Loss:     0.6922 Validation Accuracy: 0.555000\n",
      "Epoch 18, CIFAR-10 Batch 1:  Loss:     0.6953 Validation Accuracy: 0.554200\n",
      "Epoch 19, CIFAR-10 Batch 1:  Loss:     0.6571 Validation Accuracy: 0.548200\n",
      "Epoch 20, CIFAR-10 Batch 1:  Loss:     0.6984 Validation Accuracy: 0.552800\n",
      "Epoch 21, CIFAR-10 Batch 1:  Loss:     0.5712 Validation Accuracy: 0.559600\n",
      "Epoch 22, CIFAR-10 Batch 1:  Loss:     0.5375 Validation Accuracy: 0.565000\n",
      "Epoch 23, CIFAR-10 Batch 1:  Loss:     0.5417 Validation Accuracy: 0.581800\n",
      "Epoch 24, CIFAR-10 Batch 1:  Loss:     0.5052 Validation Accuracy: 0.593000\n",
      "Epoch 25, CIFAR-10 Batch 1:  Loss:     0.4690 Validation Accuracy: 0.596400\n",
      "Epoch 26, CIFAR-10 Batch 1:  Loss:     0.5222 Validation Accuracy: 0.591800\n",
      "Epoch 27, CIFAR-10 Batch 1:  Loss:     0.4270 Validation Accuracy: 0.598000\n",
      "Epoch 28, CIFAR-10 Batch 1:  Loss:     0.4788 Validation Accuracy: 0.580800\n",
      "Epoch 29, CIFAR-10 Batch 1:  Loss:     0.5521 Validation Accuracy: 0.568800\n",
      "Epoch 30, CIFAR-10 Batch 1:  Loss:     0.3989 Validation Accuracy: 0.605400\n",
      "Epoch 31, CIFAR-10 Batch 1:  Loss:     0.4143 Validation Accuracy: 0.587200\n",
      "Epoch 32, CIFAR-10 Batch 1:  Loss:     0.3430 Validation Accuracy: 0.603600\n",
      "Epoch 33, CIFAR-10 Batch 1:  Loss:     0.2975 Validation Accuracy: 0.597600\n",
      "Epoch 34, CIFAR-10 Batch 1:  Loss:     0.3030 Validation Accuracy: 0.597800\n",
      "Epoch 35, CIFAR-10 Batch 1:  Loss:     0.3231 Validation Accuracy: 0.595800\n",
      "Epoch 36, CIFAR-10 Batch 1:  Loss:     0.2965 Validation Accuracy: 0.603600\n",
      "Epoch 37, CIFAR-10 Batch 1:  Loss:     0.2469 Validation Accuracy: 0.609600\n",
      "Epoch 38, CIFAR-10 Batch 1:  Loss:     0.2267 Validation Accuracy: 0.602800\n",
      "Epoch 39, CIFAR-10 Batch 1:  Loss:     0.2115 Validation Accuracy: 0.598800\n",
      "Epoch 40, CIFAR-10 Batch 1:  Loss:     0.2056 Validation Accuracy: 0.604000\n",
      "Epoch 41, CIFAR-10 Batch 1:  Loss:     0.1967 Validation Accuracy: 0.595600\n",
      "Epoch 42, CIFAR-10 Batch 1:  Loss:     0.2091 Validation Accuracy: 0.613200\n",
      "Epoch 43, CIFAR-10 Batch 1:  Loss:     0.2077 Validation Accuracy: 0.595000\n",
      "Epoch 44, CIFAR-10 Batch 1:  Loss:     0.1640 Validation Accuracy: 0.594000\n",
      "Epoch 45, CIFAR-10 Batch 1:  Loss:     0.1402 Validation Accuracy: 0.593200\n",
      "Epoch 46, CIFAR-10 Batch 1:  Loss:     0.1379 Validation Accuracy: 0.598400\n",
      "Epoch 47, CIFAR-10 Batch 1:  Loss:     0.1374 Validation Accuracy: 0.597800\n",
      "Epoch 48, CIFAR-10 Batch 1:  Loss:     0.1198 Validation Accuracy: 0.590600\n",
      "Epoch 49, CIFAR-10 Batch 1:  Loss:     0.1211 Validation Accuracy: 0.587200\n",
      "Epoch 50, CIFAR-10 Batch 1:  Loss:     0.1359 Validation Accuracy: 0.596400\n",
      "Epoch 51, CIFAR-10 Batch 1:  Loss:     0.1169 Validation Accuracy: 0.576400\n",
      "Epoch 52, CIFAR-10 Batch 1:  Loss:     0.0998 Validation Accuracy: 0.601600\n",
      "Epoch 53, CIFAR-10 Batch 1:  Loss:     0.1065 Validation Accuracy: 0.602600\n",
      "Epoch 54, CIFAR-10 Batch 1:  Loss:     0.1075 Validation Accuracy: 0.592800\n",
      "Epoch 55, CIFAR-10 Batch 1:  Loss:     0.0574 Validation Accuracy: 0.607800\n",
      "Epoch 56, CIFAR-10 Batch 1:  Loss:     0.0862 Validation Accuracy: 0.598600\n",
      "Epoch 57, CIFAR-10 Batch 1:  Loss:     0.1037 Validation Accuracy: 0.596600\n",
      "Epoch 58, CIFAR-10 Batch 1:  Loss:     0.0764 Validation Accuracy: 0.597800\n",
      "Epoch 59, CIFAR-10 Batch 1:  Loss:     0.0769 Validation Accuracy: 0.591800\n",
      "Epoch 60, CIFAR-10 Batch 1:  Loss:     0.0690 Validation Accuracy: 0.590600\n"
     ]
    }
   ],
   "source": [
    "\"\"\"\n",
    "DON'T MODIFY ANYTHING IN THIS CELL\n",
    "\"\"\"\n",
    "print('Checking the Training on a Single Batch...')\n",
    "with tf.Session() as sess:\n",
    "    # Initializing the variables\n",
    "    sess.run(tf.global_variables_initializer())\n",
    "    \n",
    "    # Training cycle\n",
    "    for epoch in range(epochs):\n",
    "        batch_i = 1\n",
    "        for batch_features, batch_labels in helper.load_preprocess_training_batch(batch_i, batch_size):\n",
    "            train_neural_network(sess, optimizer, keep_probability, batch_features, batch_labels)\n",
    "        print('Epoch {:>2}, CIFAR-10 Batch {}:  '.format(epoch + 1, batch_i), end='')\n",
    "        print_stats(sess, batch_features, batch_labels, cost, accuracy)"
   ]
  },
  {
   "cell_type": "markdown",
   "metadata": {},
   "source": [
    "### Fully Train the Model\n",
    "Now that you got a good accuracy with a single CIFAR-10 batch, try it with all five batches."
   ]
  },
  {
   "cell_type": "code",
   "execution_count": 178,
   "metadata": {},
   "outputs": [
    {
     "name": "stdout",
     "output_type": "stream",
     "text": [
      "Training...\n",
      "Epoch  1, CIFAR-10 Batch 1:  Loss:     2.1719 Validation Accuracy: 0.253400\n",
      "Epoch  1, CIFAR-10 Batch 2:  Loss:     1.8513 Validation Accuracy: 0.338800\n",
      "Epoch  1, CIFAR-10 Batch 3:  Loss:     1.5670 Validation Accuracy: 0.365600\n",
      "Epoch  1, CIFAR-10 Batch 4:  Loss:     1.6093 Validation Accuracy: 0.416000\n",
      "Epoch  1, CIFAR-10 Batch 5:  Loss:     1.4571 Validation Accuracy: 0.435800\n",
      "Epoch  2, CIFAR-10 Batch 1:  Loss:     1.6137 Validation Accuracy: 0.438000\n",
      "Epoch  2, CIFAR-10 Batch 2:  Loss:     1.5104 Validation Accuracy: 0.443200\n",
      "Epoch  2, CIFAR-10 Batch 3:  Loss:     1.2904 Validation Accuracy: 0.474600\n",
      "Epoch  2, CIFAR-10 Batch 4:  Loss:     1.4888 Validation Accuracy: 0.490400\n",
      "Epoch  2, CIFAR-10 Batch 5:  Loss:     1.3409 Validation Accuracy: 0.493600\n",
      "Epoch  3, CIFAR-10 Batch 1:  Loss:     1.3674 Validation Accuracy: 0.506000\n",
      "Epoch  3, CIFAR-10 Batch 2:  Loss:     1.3396 Validation Accuracy: 0.495800\n",
      "Epoch  3, CIFAR-10 Batch 3:  Loss:     1.2278 Validation Accuracy: 0.504600\n",
      "Epoch  3, CIFAR-10 Batch 4:  Loss:     1.3337 Validation Accuracy: 0.542000\n",
      "Epoch  3, CIFAR-10 Batch 5:  Loss:     1.3879 Validation Accuracy: 0.511600\n",
      "Epoch  4, CIFAR-10 Batch 1:  Loss:     1.2270 Validation Accuracy: 0.547200\n",
      "Epoch  4, CIFAR-10 Batch 2:  Loss:     1.1669 Validation Accuracy: 0.539200\n",
      "Epoch  4, CIFAR-10 Batch 3:  Loss:     1.0953 Validation Accuracy: 0.536400\n",
      "Epoch  4, CIFAR-10 Batch 4:  Loss:     1.1741 Validation Accuracy: 0.571000\n",
      "Epoch  4, CIFAR-10 Batch 5:  Loss:     1.2080 Validation Accuracy: 0.561200\n",
      "Epoch  5, CIFAR-10 Batch 1:  Loss:     1.1324 Validation Accuracy: 0.565000\n",
      "Epoch  5, CIFAR-10 Batch 2:  Loss:     1.0694 Validation Accuracy: 0.580000\n",
      "Epoch  5, CIFAR-10 Batch 3:  Loss:     0.9731 Validation Accuracy: 0.578600\n",
      "Epoch  5, CIFAR-10 Batch 4:  Loss:     1.0787 Validation Accuracy: 0.589600\n",
      "Epoch  5, CIFAR-10 Batch 5:  Loss:     1.1507 Validation Accuracy: 0.582400\n",
      "Epoch  6, CIFAR-10 Batch 1:  Loss:     1.0123 Validation Accuracy: 0.585400\n",
      "Epoch  6, CIFAR-10 Batch 2:  Loss:     0.9257 Validation Accuracy: 0.607000\n",
      "Epoch  6, CIFAR-10 Batch 3:  Loss:     0.9398 Validation Accuracy: 0.591600\n",
      "Epoch  6, CIFAR-10 Batch 4:  Loss:     0.9839 Validation Accuracy: 0.597400\n",
      "Epoch  6, CIFAR-10 Batch 5:  Loss:     1.1231 Validation Accuracy: 0.595600\n",
      "Epoch  7, CIFAR-10 Batch 1:  Loss:     0.9409 Validation Accuracy: 0.619400\n",
      "Epoch  7, CIFAR-10 Batch 2:  Loss:     0.8808 Validation Accuracy: 0.614200\n",
      "Epoch  7, CIFAR-10 Batch 3:  Loss:     0.8607 Validation Accuracy: 0.624400\n",
      "Epoch  7, CIFAR-10 Batch 4:  Loss:     0.9323 Validation Accuracy: 0.617600\n",
      "Epoch  7, CIFAR-10 Batch 5:  Loss:     1.0280 Validation Accuracy: 0.584000\n",
      "Epoch  8, CIFAR-10 Batch 1:  Loss:     0.8946 Validation Accuracy: 0.628200\n",
      "Epoch  8, CIFAR-10 Batch 2:  Loss:     0.8312 Validation Accuracy: 0.617000\n",
      "Epoch  8, CIFAR-10 Batch 3:  Loss:     0.8621 Validation Accuracy: 0.623800\n",
      "Epoch  8, CIFAR-10 Batch 4:  Loss:     0.8037 Validation Accuracy: 0.627200\n",
      "Epoch  8, CIFAR-10 Batch 5:  Loss:     0.9252 Validation Accuracy: 0.620600\n",
      "Epoch  9, CIFAR-10 Batch 1:  Loss:     0.7579 Validation Accuracy: 0.639200\n",
      "Epoch  9, CIFAR-10 Batch 2:  Loss:     0.8186 Validation Accuracy: 0.636800\n",
      "Epoch  9, CIFAR-10 Batch 3:  Loss:     0.6835 Validation Accuracy: 0.636800\n",
      "Epoch  9, CIFAR-10 Batch 4:  Loss:     0.7872 Validation Accuracy: 0.641000\n",
      "Epoch  9, CIFAR-10 Batch 5:  Loss:     0.9498 Validation Accuracy: 0.620600\n",
      "Epoch 10, CIFAR-10 Batch 1:  Loss:     0.7717 Validation Accuracy: 0.638000\n",
      "Epoch 10, CIFAR-10 Batch 2:  Loss:     0.6854 Validation Accuracy: 0.643400\n",
      "Epoch 10, CIFAR-10 Batch 3:  Loss:     0.6726 Validation Accuracy: 0.635800\n",
      "Epoch 10, CIFAR-10 Batch 4:  Loss:     0.7412 Validation Accuracy: 0.648600\n",
      "Epoch 10, CIFAR-10 Batch 5:  Loss:     0.8784 Validation Accuracy: 0.636400\n",
      "Epoch 11, CIFAR-10 Batch 1:  Loss:     0.7120 Validation Accuracy: 0.627600\n",
      "Epoch 11, CIFAR-10 Batch 2:  Loss:     0.6247 Validation Accuracy: 0.650000\n",
      "Epoch 11, CIFAR-10 Batch 3:  Loss:     0.6332 Validation Accuracy: 0.653400\n",
      "Epoch 11, CIFAR-10 Batch 4:  Loss:     0.6996 Validation Accuracy: 0.649400\n",
      "Epoch 11, CIFAR-10 Batch 5:  Loss:     0.7894 Validation Accuracy: 0.645800\n",
      "Epoch 12, CIFAR-10 Batch 1:  Loss:     0.6770 Validation Accuracy: 0.656400\n",
      "Epoch 12, CIFAR-10 Batch 2:  Loss:     0.6584 Validation Accuracy: 0.654200\n",
      "Epoch 12, CIFAR-10 Batch 3:  Loss:     0.6479 Validation Accuracy: 0.655200\n",
      "Epoch 12, CIFAR-10 Batch 4:  Loss:     0.6826 Validation Accuracy: 0.657000\n",
      "Epoch 12, CIFAR-10 Batch 5:  Loss:     0.6984 Validation Accuracy: 0.663600\n",
      "Epoch 13, CIFAR-10 Batch 1:  Loss:     0.6670 Validation Accuracy: 0.656400\n",
      "Epoch 13, CIFAR-10 Batch 2:  Loss:     0.6320 Validation Accuracy: 0.650800\n",
      "Epoch 13, CIFAR-10 Batch 3:  Loss:     0.5799 Validation Accuracy: 0.651200\n",
      "Epoch 13, CIFAR-10 Batch 4:  Loss:     0.6473 Validation Accuracy: 0.667000\n",
      "Epoch 13, CIFAR-10 Batch 5:  Loss:     0.7264 Validation Accuracy: 0.649000\n",
      "Epoch 14, CIFAR-10 Batch 1:  Loss:     0.6776 Validation Accuracy: 0.662600\n",
      "Epoch 14, CIFAR-10 Batch 2:  Loss:     0.6053 Validation Accuracy: 0.673800\n",
      "Epoch 14, CIFAR-10 Batch 3:  Loss:     0.6035 Validation Accuracy: 0.654000\n",
      "Epoch 14, CIFAR-10 Batch 4:  Loss:     0.5910 Validation Accuracy: 0.685600\n",
      "Epoch 14, CIFAR-10 Batch 5:  Loss:     0.6663 Validation Accuracy: 0.678200\n",
      "Epoch 15, CIFAR-10 Batch 1:  Loss:     0.6227 Validation Accuracy: 0.677000\n",
      "Epoch 15, CIFAR-10 Batch 2:  Loss:     0.6013 Validation Accuracy: 0.667400\n",
      "Epoch 15, CIFAR-10 Batch 3:  Loss:     0.5331 Validation Accuracy: 0.673600\n",
      "Epoch 15, CIFAR-10 Batch 4:  Loss:     0.6355 Validation Accuracy: 0.677400\n",
      "Epoch 15, CIFAR-10 Batch 5:  Loss:     0.5928 Validation Accuracy: 0.662400\n",
      "Epoch 16, CIFAR-10 Batch 1:  Loss:     0.5661 Validation Accuracy: 0.674600\n",
      "Epoch 16, CIFAR-10 Batch 2:  Loss:     0.4913 Validation Accuracy: 0.681200\n",
      "Epoch 16, CIFAR-10 Batch 3:  Loss:     0.4859 Validation Accuracy: 0.689600\n",
      "Epoch 16, CIFAR-10 Batch 4:  Loss:     0.6080 Validation Accuracy: 0.686200\n",
      "Epoch 16, CIFAR-10 Batch 5:  Loss:     0.6046 Validation Accuracy: 0.680400\n",
      "Epoch 17, CIFAR-10 Batch 1:  Loss:     0.5806 Validation Accuracy: 0.675800\n",
      "Epoch 17, CIFAR-10 Batch 2:  Loss:     0.4713 Validation Accuracy: 0.687000\n",
      "Epoch 17, CIFAR-10 Batch 3:  Loss:     0.4650 Validation Accuracy: 0.669200\n",
      "Epoch 17, CIFAR-10 Batch 4:  Loss:     0.5312 Validation Accuracy: 0.678800\n",
      "Epoch 17, CIFAR-10 Batch 5:  Loss:     0.5134 Validation Accuracy: 0.677000\n",
      "Epoch 18, CIFAR-10 Batch 1:  Loss:     0.6552 Validation Accuracy: 0.680400\n",
      "Epoch 18, CIFAR-10 Batch 2:  Loss:     0.4735 Validation Accuracy: 0.685400\n",
      "Epoch 18, CIFAR-10 Batch 3:  Loss:     0.4094 Validation Accuracy: 0.690600\n",
      "Epoch 18, CIFAR-10 Batch 4:  Loss:     0.5119 Validation Accuracy: 0.685600\n",
      "Epoch 18, CIFAR-10 Batch 5:  Loss:     0.4822 Validation Accuracy: 0.685000\n",
      "Epoch 19, CIFAR-10 Batch 1:  Loss:     0.5341 Validation Accuracy: 0.689200\n",
      "Epoch 19, CIFAR-10 Batch 2:  Loss:     0.4297 Validation Accuracy: 0.681200\n",
      "Epoch 19, CIFAR-10 Batch 3:  Loss:     0.3688 Validation Accuracy: 0.690600\n",
      "Epoch 19, CIFAR-10 Batch 4:  Loss:     0.5093 Validation Accuracy: 0.689800\n",
      "Epoch 19, CIFAR-10 Batch 5:  Loss:     0.4457 Validation Accuracy: 0.675000\n",
      "Epoch 20, CIFAR-10 Batch 1:  Loss:     0.5306 Validation Accuracy: 0.691800\n",
      "Epoch 20, CIFAR-10 Batch 2:  Loss:     0.4297 Validation Accuracy: 0.697200\n",
      "Epoch 20, CIFAR-10 Batch 3:  Loss:     0.3258 Validation Accuracy: 0.696400\n",
      "Epoch 20, CIFAR-10 Batch 4:  Loss:     0.4527 Validation Accuracy: 0.699000\n",
      "Epoch 20, CIFAR-10 Batch 5:  Loss:     0.4789 Validation Accuracy: 0.681200\n",
      "Epoch 21, CIFAR-10 Batch 1:  Loss:     0.5875 Validation Accuracy: 0.670400\n",
      "Epoch 21, CIFAR-10 Batch 2:  Loss:     0.3891 Validation Accuracy: 0.708400\n",
      "Epoch 21, CIFAR-10 Batch 3:  Loss:     0.3214 Validation Accuracy: 0.696600\n",
      "Epoch 21, CIFAR-10 Batch 4:  Loss:     0.4634 Validation Accuracy: 0.688200\n",
      "Epoch 21, CIFAR-10 Batch 5:  Loss:     0.4588 Validation Accuracy: 0.682600\n",
      "Epoch 22, CIFAR-10 Batch 1:  Loss:     0.4751 Validation Accuracy: 0.691000\n",
      "Epoch 22, CIFAR-10 Batch 2:  Loss:     0.3509 Validation Accuracy: 0.703400\n",
      "Epoch 22, CIFAR-10 Batch 3:  Loss:     0.3060 Validation Accuracy: 0.703400\n"
     ]
    },
    {
     "name": "stdout",
     "output_type": "stream",
     "text": [
      "Epoch 22, CIFAR-10 Batch 4:  Loss:     0.4445 Validation Accuracy: 0.696400\n",
      "Epoch 22, CIFAR-10 Batch 5:  Loss:     0.4357 Validation Accuracy: 0.682800\n",
      "Epoch 23, CIFAR-10 Batch 1:  Loss:     0.4809 Validation Accuracy: 0.695400\n",
      "Epoch 23, CIFAR-10 Batch 2:  Loss:     0.3546 Validation Accuracy: 0.693800\n",
      "Epoch 23, CIFAR-10 Batch 3:  Loss:     0.3348 Validation Accuracy: 0.691000\n",
      "Epoch 23, CIFAR-10 Batch 4:  Loss:     0.3966 Validation Accuracy: 0.696200\n",
      "Epoch 23, CIFAR-10 Batch 5:  Loss:     0.3661 Validation Accuracy: 0.690800\n",
      "Epoch 24, CIFAR-10 Batch 1:  Loss:     0.4318 Validation Accuracy: 0.693400\n",
      "Epoch 24, CIFAR-10 Batch 2:  Loss:     0.3408 Validation Accuracy: 0.696000\n",
      "Epoch 24, CIFAR-10 Batch 3:  Loss:     0.2873 Validation Accuracy: 0.703600\n",
      "Epoch 24, CIFAR-10 Batch 4:  Loss:     0.3308 Validation Accuracy: 0.709200\n",
      "Epoch 24, CIFAR-10 Batch 5:  Loss:     0.4001 Validation Accuracy: 0.698600\n",
      "Epoch 25, CIFAR-10 Batch 1:  Loss:     0.4525 Validation Accuracy: 0.702400\n",
      "Epoch 25, CIFAR-10 Batch 2:  Loss:     0.3418 Validation Accuracy: 0.702200\n",
      "Epoch 25, CIFAR-10 Batch 3:  Loss:     0.2678 Validation Accuracy: 0.701400\n",
      "Epoch 25, CIFAR-10 Batch 4:  Loss:     0.3353 Validation Accuracy: 0.697600\n",
      "Epoch 25, CIFAR-10 Batch 5:  Loss:     0.3305 Validation Accuracy: 0.696400\n",
      "Epoch 26, CIFAR-10 Batch 1:  Loss:     0.3936 Validation Accuracy: 0.704400\n",
      "Epoch 26, CIFAR-10 Batch 2:  Loss:     0.2962 Validation Accuracy: 0.707000\n",
      "Epoch 26, CIFAR-10 Batch 3:  Loss:     0.2356 Validation Accuracy: 0.699200\n",
      "Epoch 26, CIFAR-10 Batch 4:  Loss:     0.3278 Validation Accuracy: 0.690000\n",
      "Epoch 26, CIFAR-10 Batch 5:  Loss:     0.3830 Validation Accuracy: 0.699000\n",
      "Epoch 27, CIFAR-10 Batch 1:  Loss:     0.4367 Validation Accuracy: 0.697000\n",
      "Epoch 27, CIFAR-10 Batch 2:  Loss:     0.3083 Validation Accuracy: 0.702000\n",
      "Epoch 27, CIFAR-10 Batch 3:  Loss:     0.2216 Validation Accuracy: 0.709200\n",
      "Epoch 27, CIFAR-10 Batch 4:  Loss:     0.2844 Validation Accuracy: 0.705600\n",
      "Epoch 27, CIFAR-10 Batch 5:  Loss:     0.3399 Validation Accuracy: 0.704000\n",
      "Epoch 28, CIFAR-10 Batch 1:  Loss:     0.3737 Validation Accuracy: 0.713200\n",
      "Epoch 28, CIFAR-10 Batch 2:  Loss:     0.3139 Validation Accuracy: 0.698400\n",
      "Epoch 28, CIFAR-10 Batch 3:  Loss:     0.2136 Validation Accuracy: 0.707800\n",
      "Epoch 28, CIFAR-10 Batch 4:  Loss:     0.2690 Validation Accuracy: 0.707600\n",
      "Epoch 28, CIFAR-10 Batch 5:  Loss:     0.3278 Validation Accuracy: 0.694800\n",
      "Epoch 29, CIFAR-10 Batch 1:  Loss:     0.3726 Validation Accuracy: 0.707200\n",
      "Epoch 29, CIFAR-10 Batch 2:  Loss:     0.2724 Validation Accuracy: 0.712000\n",
      "Epoch 29, CIFAR-10 Batch 3:  Loss:     0.1884 Validation Accuracy: 0.708000\n",
      "Epoch 29, CIFAR-10 Batch 4:  Loss:     0.2822 Validation Accuracy: 0.701000\n",
      "Epoch 29, CIFAR-10 Batch 5:  Loss:     0.2706 Validation Accuracy: 0.694800\n",
      "Epoch 30, CIFAR-10 Batch 1:  Loss:     0.3754 Validation Accuracy: 0.700600\n",
      "Epoch 30, CIFAR-10 Batch 2:  Loss:     0.2843 Validation Accuracy: 0.704400\n",
      "Epoch 30, CIFAR-10 Batch 3:  Loss:     0.2167 Validation Accuracy: 0.718800\n",
      "Epoch 30, CIFAR-10 Batch 4:  Loss:     0.2655 Validation Accuracy: 0.708400\n",
      "Epoch 30, CIFAR-10 Batch 5:  Loss:     0.3227 Validation Accuracy: 0.704000\n",
      "Epoch 31, CIFAR-10 Batch 1:  Loss:     0.3441 Validation Accuracy: 0.695800\n",
      "Epoch 31, CIFAR-10 Batch 2:  Loss:     0.2540 Validation Accuracy: 0.707800\n",
      "Epoch 31, CIFAR-10 Batch 3:  Loss:     0.1721 Validation Accuracy: 0.716000\n",
      "Epoch 31, CIFAR-10 Batch 4:  Loss:     0.2346 Validation Accuracy: 0.713600\n",
      "Epoch 31, CIFAR-10 Batch 5:  Loss:     0.2632 Validation Accuracy: 0.714400\n",
      "Epoch 32, CIFAR-10 Batch 1:  Loss:     0.4079 Validation Accuracy: 0.685600\n",
      "Epoch 32, CIFAR-10 Batch 2:  Loss:     0.2611 Validation Accuracy: 0.717000\n",
      "Epoch 32, CIFAR-10 Batch 3:  Loss:     0.2071 Validation Accuracy: 0.711800\n",
      "Epoch 32, CIFAR-10 Batch 4:  Loss:     0.2330 Validation Accuracy: 0.714600\n",
      "Epoch 32, CIFAR-10 Batch 5:  Loss:     0.2538 Validation Accuracy: 0.698200\n",
      "Epoch 33, CIFAR-10 Batch 1:  Loss:     0.3224 Validation Accuracy: 0.722800\n",
      "Epoch 33, CIFAR-10 Batch 2:  Loss:     0.2914 Validation Accuracy: 0.704200\n",
      "Epoch 33, CIFAR-10 Batch 3:  Loss:     0.1673 Validation Accuracy: 0.720000\n",
      "Epoch 33, CIFAR-10 Batch 4:  Loss:     0.2414 Validation Accuracy: 0.717600\n",
      "Epoch 33, CIFAR-10 Batch 5:  Loss:     0.2346 Validation Accuracy: 0.707400\n",
      "Epoch 34, CIFAR-10 Batch 1:  Loss:     0.3084 Validation Accuracy: 0.704600\n",
      "Epoch 34, CIFAR-10 Batch 2:  Loss:     0.2531 Validation Accuracy: 0.714400\n",
      "Epoch 34, CIFAR-10 Batch 3:  Loss:     0.1672 Validation Accuracy: 0.711600\n",
      "Epoch 34, CIFAR-10 Batch 4:  Loss:     0.1970 Validation Accuracy: 0.713000\n",
      "Epoch 34, CIFAR-10 Batch 5:  Loss:     0.2405 Validation Accuracy: 0.716800\n",
      "Epoch 35, CIFAR-10 Batch 1:  Loss:     0.3232 Validation Accuracy: 0.712600\n",
      "Epoch 35, CIFAR-10 Batch 2:  Loss:     0.2662 Validation Accuracy: 0.713000\n",
      "Epoch 35, CIFAR-10 Batch 3:  Loss:     0.1379 Validation Accuracy: 0.711400\n",
      "Epoch 35, CIFAR-10 Batch 4:  Loss:     0.2024 Validation Accuracy: 0.715400\n",
      "Epoch 35, CIFAR-10 Batch 5:  Loss:     0.2427 Validation Accuracy: 0.704000\n",
      "Epoch 36, CIFAR-10 Batch 1:  Loss:     0.3272 Validation Accuracy: 0.701000\n",
      "Epoch 36, CIFAR-10 Batch 2:  Loss:     0.2366 Validation Accuracy: 0.716200\n",
      "Epoch 36, CIFAR-10 Batch 3:  Loss:     0.1711 Validation Accuracy: 0.719000\n",
      "Epoch 36, CIFAR-10 Batch 4:  Loss:     0.2193 Validation Accuracy: 0.709200\n",
      "Epoch 36, CIFAR-10 Batch 5:  Loss:     0.1936 Validation Accuracy: 0.710600\n",
      "Epoch 37, CIFAR-10 Batch 1:  Loss:     0.2801 Validation Accuracy: 0.702800\n",
      "Epoch 37, CIFAR-10 Batch 2:  Loss:     0.2627 Validation Accuracy: 0.715800\n",
      "Epoch 37, CIFAR-10 Batch 3:  Loss:     0.1321 Validation Accuracy: 0.710200\n",
      "Epoch 37, CIFAR-10 Batch 4:  Loss:     0.1845 Validation Accuracy: 0.719000\n",
      "Epoch 37, CIFAR-10 Batch 5:  Loss:     0.1853 Validation Accuracy: 0.712600\n",
      "Epoch 38, CIFAR-10 Batch 1:  Loss:     0.3234 Validation Accuracy: 0.716800\n",
      "Epoch 38, CIFAR-10 Batch 2:  Loss:     0.1971 Validation Accuracy: 0.718200\n",
      "Epoch 38, CIFAR-10 Batch 3:  Loss:     0.1696 Validation Accuracy: 0.721200\n",
      "Epoch 38, CIFAR-10 Batch 4:  Loss:     0.1862 Validation Accuracy: 0.716400\n",
      "Epoch 38, CIFAR-10 Batch 5:  Loss:     0.2219 Validation Accuracy: 0.712000\n",
      "Epoch 39, CIFAR-10 Batch 1:  Loss:     0.2706 Validation Accuracy: 0.712600\n",
      "Epoch 39, CIFAR-10 Batch 2:  Loss:     0.2463 Validation Accuracy: 0.710000\n",
      "Epoch 39, CIFAR-10 Batch 3:  Loss:     0.1823 Validation Accuracy: 0.717600\n",
      "Epoch 39, CIFAR-10 Batch 4:  Loss:     0.2018 Validation Accuracy: 0.707400\n",
      "Epoch 39, CIFAR-10 Batch 5:  Loss:     0.2021 Validation Accuracy: 0.718600\n",
      "Epoch 40, CIFAR-10 Batch 1:  Loss:     0.2630 Validation Accuracy: 0.713400\n",
      "Epoch 40, CIFAR-10 Batch 2:  Loss:     0.1857 Validation Accuracy: 0.715800\n",
      "Epoch 40, CIFAR-10 Batch 3:  Loss:     0.1874 Validation Accuracy: 0.723000\n",
      "Epoch 40, CIFAR-10 Batch 4:  Loss:     0.1584 Validation Accuracy: 0.719600\n",
      "Epoch 40, CIFAR-10 Batch 5:  Loss:     0.1980 Validation Accuracy: 0.727200\n",
      "Epoch 41, CIFAR-10 Batch 1:  Loss:     0.2669 Validation Accuracy: 0.717800\n",
      "Epoch 41, CIFAR-10 Batch 2:  Loss:     0.1797 Validation Accuracy: 0.717200\n",
      "Epoch 41, CIFAR-10 Batch 3:  Loss:     0.1434 Validation Accuracy: 0.722000\n",
      "Epoch 41, CIFAR-10 Batch 4:  Loss:     0.1759 Validation Accuracy: 0.719400\n",
      "Epoch 41, CIFAR-10 Batch 5:  Loss:     0.1894 Validation Accuracy: 0.714800\n",
      "Epoch 42, CIFAR-10 Batch 1:  Loss:     0.2747 Validation Accuracy: 0.725000\n",
      "Epoch 42, CIFAR-10 Batch 2:  Loss:     0.1915 Validation Accuracy: 0.726400\n",
      "Epoch 42, CIFAR-10 Batch 3:  Loss:     0.1274 Validation Accuracy: 0.725600\n",
      "Epoch 42, CIFAR-10 Batch 4:  Loss:     0.2031 Validation Accuracy: 0.711600\n",
      "Epoch 42, CIFAR-10 Batch 5:  Loss:     0.1725 Validation Accuracy: 0.722200\n",
      "Epoch 43, CIFAR-10 Batch 1:  Loss:     0.2849 Validation Accuracy: 0.731800\n",
      "Epoch 43, CIFAR-10 Batch 2:  Loss:     0.1788 Validation Accuracy: 0.709600\n",
      "Epoch 43, CIFAR-10 Batch 3:  Loss:     0.1241 Validation Accuracy: 0.736800\n",
      "Epoch 43, CIFAR-10 Batch 4:  Loss:     0.1884 Validation Accuracy: 0.720400\n",
      "Epoch 43, CIFAR-10 Batch 5:  Loss:     0.1716 Validation Accuracy: 0.728000\n",
      "Epoch 44, CIFAR-10 Batch 1:  Loss:     0.2425 Validation Accuracy: 0.731600\n"
     ]
    },
    {
     "name": "stdout",
     "output_type": "stream",
     "text": [
      "Epoch 44, CIFAR-10 Batch 2:  Loss:     0.1744 Validation Accuracy: 0.728600\n",
      "Epoch 44, CIFAR-10 Batch 3:  Loss:     0.1444 Validation Accuracy: 0.724800\n",
      "Epoch 44, CIFAR-10 Batch 4:  Loss:     0.1908 Validation Accuracy: 0.722000\n",
      "Epoch 44, CIFAR-10 Batch 5:  Loss:     0.1498 Validation Accuracy: 0.722400\n",
      "Epoch 45, CIFAR-10 Batch 1:  Loss:     0.2576 Validation Accuracy: 0.722000\n",
      "Epoch 45, CIFAR-10 Batch 2:  Loss:     0.1740 Validation Accuracy: 0.722200\n",
      "Epoch 45, CIFAR-10 Batch 3:  Loss:     0.1381 Validation Accuracy: 0.721000\n",
      "Epoch 45, CIFAR-10 Batch 4:  Loss:     0.1261 Validation Accuracy: 0.715000\n",
      "Epoch 45, CIFAR-10 Batch 5:  Loss:     0.1608 Validation Accuracy: 0.728600\n",
      "Epoch 46, CIFAR-10 Batch 1:  Loss:     0.2014 Validation Accuracy: 0.730400\n",
      "Epoch 46, CIFAR-10 Batch 2:  Loss:     0.1722 Validation Accuracy: 0.723400\n",
      "Epoch 46, CIFAR-10 Batch 3:  Loss:     0.1287 Validation Accuracy: 0.726200\n",
      "Epoch 46, CIFAR-10 Batch 4:  Loss:     0.1414 Validation Accuracy: 0.726800\n",
      "Epoch 46, CIFAR-10 Batch 5:  Loss:     0.1496 Validation Accuracy: 0.721600\n",
      "Epoch 47, CIFAR-10 Batch 1:  Loss:     0.1844 Validation Accuracy: 0.719000\n",
      "Epoch 47, CIFAR-10 Batch 2:  Loss:     0.1754 Validation Accuracy: 0.720200\n",
      "Epoch 47, CIFAR-10 Batch 3:  Loss:     0.1371 Validation Accuracy: 0.729800\n",
      "Epoch 47, CIFAR-10 Batch 4:  Loss:     0.1566 Validation Accuracy: 0.732200\n",
      "Epoch 47, CIFAR-10 Batch 5:  Loss:     0.1301 Validation Accuracy: 0.721000\n",
      "Epoch 48, CIFAR-10 Batch 1:  Loss:     0.2233 Validation Accuracy: 0.724400\n",
      "Epoch 48, CIFAR-10 Batch 2:  Loss:     0.1458 Validation Accuracy: 0.720200\n",
      "Epoch 48, CIFAR-10 Batch 3:  Loss:     0.1230 Validation Accuracy: 0.718800\n",
      "Epoch 48, CIFAR-10 Batch 4:  Loss:     0.1473 Validation Accuracy: 0.720800\n",
      "Epoch 48, CIFAR-10 Batch 5:  Loss:     0.1309 Validation Accuracy: 0.725000\n",
      "Epoch 49, CIFAR-10 Batch 1:  Loss:     0.1983 Validation Accuracy: 0.728200\n",
      "Epoch 49, CIFAR-10 Batch 2:  Loss:     0.1951 Validation Accuracy: 0.714600\n",
      "Epoch 49, CIFAR-10 Batch 3:  Loss:     0.1098 Validation Accuracy: 0.727000\n",
      "Epoch 49, CIFAR-10 Batch 4:  Loss:     0.1295 Validation Accuracy: 0.716600\n",
      "Epoch 49, CIFAR-10 Batch 5:  Loss:     0.1235 Validation Accuracy: 0.728200\n",
      "Epoch 50, CIFAR-10 Batch 1:  Loss:     0.2077 Validation Accuracy: 0.722200\n",
      "Epoch 50, CIFAR-10 Batch 2:  Loss:     0.1641 Validation Accuracy: 0.714000\n",
      "Epoch 50, CIFAR-10 Batch 3:  Loss:     0.0938 Validation Accuracy: 0.726800\n",
      "Epoch 50, CIFAR-10 Batch 4:  Loss:     0.1379 Validation Accuracy: 0.728400\n",
      "Epoch 50, CIFAR-10 Batch 5:  Loss:     0.1082 Validation Accuracy: 0.729200\n",
      "Epoch 51, CIFAR-10 Batch 1:  Loss:     0.2306 Validation Accuracy: 0.723400\n",
      "Epoch 51, CIFAR-10 Batch 2:  Loss:     0.1749 Validation Accuracy: 0.719200\n",
      "Epoch 51, CIFAR-10 Batch 3:  Loss:     0.1056 Validation Accuracy: 0.727600\n",
      "Epoch 51, CIFAR-10 Batch 4:  Loss:     0.1476 Validation Accuracy: 0.731800\n",
      "Epoch 51, CIFAR-10 Batch 5:  Loss:     0.0960 Validation Accuracy: 0.728200\n",
      "Epoch 52, CIFAR-10 Batch 1:  Loss:     0.1760 Validation Accuracy: 0.724000\n",
      "Epoch 52, CIFAR-10 Batch 2:  Loss:     0.1558 Validation Accuracy: 0.718800\n",
      "Epoch 52, CIFAR-10 Batch 3:  Loss:     0.1261 Validation Accuracy: 0.724000\n",
      "Epoch 52, CIFAR-10 Batch 4:  Loss:     0.1590 Validation Accuracy: 0.714000\n",
      "Epoch 52, CIFAR-10 Batch 5:  Loss:     0.1245 Validation Accuracy: 0.717000\n",
      "Epoch 53, CIFAR-10 Batch 1:  Loss:     0.1663 Validation Accuracy: 0.722400\n",
      "Epoch 53, CIFAR-10 Batch 2:  Loss:     0.1596 Validation Accuracy: 0.717200\n",
      "Epoch 53, CIFAR-10 Batch 3:  Loss:     0.1024 Validation Accuracy: 0.732000\n",
      "Epoch 53, CIFAR-10 Batch 4:  Loss:     0.1170 Validation Accuracy: 0.728200\n",
      "Epoch 53, CIFAR-10 Batch 5:  Loss:     0.1132 Validation Accuracy: 0.720200\n",
      "Epoch 54, CIFAR-10 Batch 1:  Loss:     0.2018 Validation Accuracy: 0.731000\n",
      "Epoch 54, CIFAR-10 Batch 2:  Loss:     0.1319 Validation Accuracy: 0.721600\n",
      "Epoch 54, CIFAR-10 Batch 3:  Loss:     0.0966 Validation Accuracy: 0.736000\n",
      "Epoch 54, CIFAR-10 Batch 4:  Loss:     0.1206 Validation Accuracy: 0.716400\n",
      "Epoch 54, CIFAR-10 Batch 5:  Loss:     0.1035 Validation Accuracy: 0.728800\n",
      "Epoch 55, CIFAR-10 Batch 1:  Loss:     0.1447 Validation Accuracy: 0.713200\n",
      "Epoch 55, CIFAR-10 Batch 2:  Loss:     0.1197 Validation Accuracy: 0.726200\n",
      "Epoch 55, CIFAR-10 Batch 3:  Loss:     0.1274 Validation Accuracy: 0.729400\n",
      "Epoch 55, CIFAR-10 Batch 4:  Loss:     0.1065 Validation Accuracy: 0.733400\n",
      "Epoch 55, CIFAR-10 Batch 5:  Loss:     0.1246 Validation Accuracy: 0.732000\n",
      "Epoch 56, CIFAR-10 Batch 1:  Loss:     0.1820 Validation Accuracy: 0.729800\n",
      "Epoch 56, CIFAR-10 Batch 2:  Loss:     0.1444 Validation Accuracy: 0.723200\n",
      "Epoch 56, CIFAR-10 Batch 3:  Loss:     0.1042 Validation Accuracy: 0.732800\n",
      "Epoch 56, CIFAR-10 Batch 4:  Loss:     0.1434 Validation Accuracy: 0.720000\n",
      "Epoch 56, CIFAR-10 Batch 5:  Loss:     0.1240 Validation Accuracy: 0.729400\n",
      "Epoch 57, CIFAR-10 Batch 1:  Loss:     0.1804 Validation Accuracy: 0.727000\n",
      "Epoch 57, CIFAR-10 Batch 2:  Loss:     0.1256 Validation Accuracy: 0.726000\n",
      "Epoch 57, CIFAR-10 Batch 3:  Loss:     0.0994 Validation Accuracy: 0.730000\n",
      "Epoch 57, CIFAR-10 Batch 4:  Loss:     0.1006 Validation Accuracy: 0.721200\n",
      "Epoch 57, CIFAR-10 Batch 5:  Loss:     0.1063 Validation Accuracy: 0.731800\n",
      "Epoch 58, CIFAR-10 Batch 1:  Loss:     0.1955 Validation Accuracy: 0.716400\n",
      "Epoch 58, CIFAR-10 Batch 2:  Loss:     0.1284 Validation Accuracy: 0.727000\n",
      "Epoch 58, CIFAR-10 Batch 3:  Loss:     0.1055 Validation Accuracy: 0.726000\n",
      "Epoch 58, CIFAR-10 Batch 4:  Loss:     0.1269 Validation Accuracy: 0.728200\n",
      "Epoch 58, CIFAR-10 Batch 5:  Loss:     0.0993 Validation Accuracy: 0.737600\n",
      "Epoch 59, CIFAR-10 Batch 1:  Loss:     0.1498 Validation Accuracy: 0.725600\n",
      "Epoch 59, CIFAR-10 Batch 2:  Loss:     0.1284 Validation Accuracy: 0.716400\n",
      "Epoch 59, CIFAR-10 Batch 3:  Loss:     0.0937 Validation Accuracy: 0.730800\n",
      "Epoch 59, CIFAR-10 Batch 4:  Loss:     0.1147 Validation Accuracy: 0.720200\n",
      "Epoch 59, CIFAR-10 Batch 5:  Loss:     0.1094 Validation Accuracy: 0.728800\n",
      "Epoch 60, CIFAR-10 Batch 1:  Loss:     0.1600 Validation Accuracy: 0.733400\n",
      "Epoch 60, CIFAR-10 Batch 2:  Loss:     0.1027 Validation Accuracy: 0.725600\n",
      "Epoch 60, CIFAR-10 Batch 3:  Loss:     0.0989 Validation Accuracy: 0.723000\n",
      "Epoch 60, CIFAR-10 Batch 4:  Loss:     0.1033 Validation Accuracy: 0.730400\n",
      "Epoch 60, CIFAR-10 Batch 5:  Loss:     0.0960 Validation Accuracy: 0.729000\n"
     ]
    }
   ],
   "source": [
    "\"\"\"\n",
    "DON'T MODIFY ANYTHING IN THIS CELL\n",
    "\"\"\"\n",
    "save_model_path = './image_classification'\n",
    "\n",
    "print('Training...')\n",
    "with tf.Session() as sess:\n",
    "    # Initializing the variables\n",
    "    sess.run(tf.global_variables_initializer())\n",
    "    \n",
    "    # Training cycle\n",
    "    for epoch in range(epochs):\n",
    "        # Loop over all batches\n",
    "        n_batches = 5\n",
    "        for batch_i in range(1, n_batches + 1):\n",
    "            for batch_features, batch_labels in helper.load_preprocess_training_batch(batch_i, batch_size):\n",
    "                train_neural_network(sess, optimizer, keep_probability, batch_features, batch_labels)\n",
    "            print('Epoch {:>2}, CIFAR-10 Batch {}:  '.format(epoch + 1, batch_i), end='')\n",
    "            print_stats(sess, batch_features, batch_labels, cost, accuracy)\n",
    "            \n",
    "    # Save Model\n",
    "    saver = tf.train.Saver()\n",
    "    save_path = saver.save(sess, save_model_path)"
   ]
  },
  {
   "cell_type": "markdown",
   "metadata": {},
   "source": [
    "# Checkpoint\n",
    "The model has been saved to disk.\n",
    "## Test Model\n",
    "Test your model against the test dataset.  This will be your final accuracy. You should have an accuracy greater than 50%. If you don't, keep tweaking the model architecture and parameters."
   ]
  },
  {
   "cell_type": "code",
   "execution_count": 179,
   "metadata": {},
   "outputs": [
    {
     "name": "stdout",
     "output_type": "stream",
     "text": [
      "INFO:tensorflow:Restoring parameters from ./image_classification\n",
      "Testing Accuracy: 0.723496835443038\n",
      "\n"
     ]
    },
    {
     "data": {
      "image/png": "[encoded data removed]",
      "text/plain": [
       "<matplotlib.figure.Figure at 0x7fe08e9980f0>"
      ]
     },
     "metadata": {
      "image/png": {
       "height": 319,
       "width": 355
      }
     },
     "output_type": "display_data"
    }
   ],
   "source": [
    "\"\"\"\n",
    "DON'T MODIFY ANYTHING IN THIS CELL\n",
    "\"\"\"\n",
    "%matplotlib inline\n",
    "%config InlineBackend.figure_format = 'retina'\n",
    "\n",
    "import tensorflow as tf\n",
    "import pickle\n",
    "import helper\n",
    "import random\n",
    "\n",
    "# Set batch size if not already set\n",
    "try:\n",
    "    if batch_size:\n",
    "        pass\n",
    "except NameError:\n",
    "    batch_size = 64\n",
    "\n",
    "save_model_path = './image_classification'\n",
    "n_samples = 4\n",
    "top_n_predictions = 3\n",
    "\n",
    "def test_model():\n",
    "    \"\"\"\n",
    "    Test the saved model against the test dataset\n",
    "    \"\"\"\n",
    "\n",
    "    test_features, test_labels = pickle.load(open('preprocess_test.p', mode='rb'))\n",
    "    loaded_graph = tf.Graph()\n",
    "\n",
    "    with tf.Session(graph=loaded_graph) as sess:\n",
    "        # Load model\n",
    "        loader = tf.train.import_meta_graph(save_model_path + '.meta')\n",
    "        loader.restore(sess, save_model_path)\n",
    "\n",
    "        # Get Tensors from loaded model\n",
    "        loaded_x = loaded_graph.get_tensor_by_name('x:0')\n",
    "        loaded_y = loaded_graph.get_tensor_by_name('y:0')\n",
    "        loaded_keep_prob = loaded_graph.get_tensor_by_name('keep_prob:0')\n",
    "        loaded_logits = loaded_graph.get_tensor_by_name('logits:0')\n",
    "        loaded_acc = loaded_graph.get_tensor_by_name('accuracy:0')\n",
    "        \n",
    "        # Get accuracy in batches for memory limitations\n",
    "        test_batch_acc_total = 0\n",
    "        test_batch_count = 0\n",
    "        \n",
    "        for test_feature_batch, test_label_batch in helper.batch_features_labels(test_features, test_labels, batch_size):\n",
    "            test_batch_acc_total += sess.run(\n",
    "                loaded_acc,\n",
    "                feed_dict={loaded_x: test_feature_batch, loaded_y: test_label_batch, loaded_keep_prob: 1.0})\n",
    "            test_batch_count += 1\n",
    "\n",
    "        print('Testing Accuracy: {}\\n'.format(test_batch_acc_total/test_batch_count))\n",
    "\n",
    "        # Print Random Samples\n",
    "        random_test_features, random_test_labels = tuple(zip(*random.sample(list(zip(test_features, test_labels)), n_samples)))\n",
    "        random_test_predictions = sess.run(\n",
    "            tf.nn.top_k(tf.nn.softmax(loaded_logits), top_n_predictions),\n",
    "            feed_dict={loaded_x: random_test_features, loaded_y: random_test_labels, loaded_keep_prob: 1.0})\n",
    "        helper.display_image_predictions(random_test_features, random_test_labels, random_test_predictions)\n",
    "\n",
    "\n",
    "test_model()"
   ]
  },
  {
   "cell_type": "markdown",
   "metadata": {},
   "source": [
    "## Why 50-80% Accuracy?\n",
    "You might be wondering why you can't get an accuracy any higher. First things first, 50% isn't bad for a simple CNN.  Pure guessing would get you 10% accuracy. However, you might notice people are getting scores [well above 80%](http://rodrigob.github.io/are_we_there_yet/build/classification_datasets_results.html#43494641522d3130).  That's because we haven't taught you all there is to know about neural networks. We still need to cover a few more techniques.\n",
    "## Submitting This Project\n",
    "When submitting this project, make sure to run all the cells before saving the notebook.  Save the notebook file as \"dlnd_image_classification.ipynb\" and save it as a HTML file under \"File\" -> \"Download as\".  Include the \"helper.py\" and \"problem_unittests.py\" files in your submission."
   ]
  },
  {
   "cell_type": "code",
   "execution_count": null,
   "metadata": {
    "collapsed": true
   },
   "outputs": [],
   "source": []
  }
 ],
 "metadata": {
  "kernelspec": {
   "display_name": "Python 3",
   "language": "python",
   "name": "python3"
  },
  "language_info": {
   "codemirror_mode": {
    "name": "ipython",
    "version": 3
   },
   "file_extension": ".py",
   "mimetype": "text/x-python",
   "name": "python",
   "nbconvert_exporter": "python",
   "pygments_lexer": "ipython3",
   "version": "3.5.3"
  }
 },
 "nbformat": 4,
 "nbformat_minor": 1
}
